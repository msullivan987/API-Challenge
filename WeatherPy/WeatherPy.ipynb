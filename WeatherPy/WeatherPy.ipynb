{
 "cells": [
  {
   "cell_type": "markdown",
   "metadata": {},
   "source": [
    "# WeatherPy\n",
    "----\n",
    "\n",
    "#### Note\n",
    "* Instructions have been included for each segment. You do not have to follow them exactly, but they are included to help you think through the steps."
   ]
  },
  {
   "cell_type": "code",
   "execution_count": 48,
   "metadata": {},
   "outputs": [
    {
     "name": "stdout",
     "output_type": "stream",
     "text": [
      "Collecting citipy\n",
      "  Downloading citipy-0.0.5.tar.gz (557 kB)\n",
      "Collecting kdtree>=0.12\n",
      "  Downloading kdtree-0.16-py2.py3-none-any.whl (7.7 kB)\n",
      "Building wheels for collected packages: citipy\n",
      "  Building wheel for citipy (setup.py): started\n",
      "  Building wheel for citipy (setup.py): finished with status 'done'\n",
      "  Created wheel for citipy: filename=citipy-0.0.5-py3-none-any.whl size=559707 sha256=88d6af634f1faba8ae60c69531eb66679a3ee49c3e863645e144438bdfba0c95\n",
      "  Stored in directory: c:\\users\\michelle\\appdata\\local\\pip\\cache\\wheels\\eb\\07\\14\\1c448d9fabf3aceac66270933ecae15693974a1b7f91266841\n",
      "Successfully built citipy\n",
      "Installing collected packages: kdtree, citipy\n",
      "Successfully installed citipy-0.0.5 kdtree-0.16\n"
     ]
    }
   ],
   "source": [
    "import sys\n",
    "!{sys.executable} -m pip install citipy"
   ]
  },
  {
   "cell_type": "code",
   "execution_count": 119,
   "metadata": {
    "scrolled": true
   },
   "outputs": [],
   "source": [
    "import matplotlib.pyplot as plt\n",
    "import pandas as pd\n",
    "import numpy as np\n",
    "import requests\n",
    "import random\n",
    "import datetime\n",
    "from config import api_key \n",
    "from citipy import citipy"
   ]
  },
  {
   "cell_type": "markdown",
   "metadata": {},
   "source": [
    "## Generate Cities List"
   ]
  },
  {
   "cell_type": "code",
   "execution_count": 76,
   "metadata": {
    "scrolled": true
   },
   "outputs": [
    {
     "name": "stdout",
     "output_type": "stream",
     "text": [
      "600\n"
     ]
    }
   ],
   "source": [
    "cities = []\n",
    "\n",
    "#use citipy to find nearest city for random latitudes and longitudes. Don't stop 'til you get enough.\n",
    "while len(cities) < 600:\n",
    "    lat = np.random.randint(-90,90)\n",
    "    long = np.random.randint(-180,180) \n",
    "    city = citipy.nearest_city(lat,long)\n",
    "    \n",
    "    if city not in cities:\n",
    "        cities.append(city)\n",
    "\n",
    "print(len(cities))            "
   ]
  },
  {
   "cell_type": "markdown",
   "metadata": {},
   "source": [
    "### Perform API Calls\n",
    "* Perform a weather check on each city using a series of successive API calls.\n",
    "* Include a print log of each city as it'sbeing processed (with the city number and city name).\n"
   ]
  },
  {
   "cell_type": "code",
   "execution_count": 77,
   "metadata": {
    "scrolled": false
   },
   "outputs": [
    {
     "name": "stdout",
     "output_type": "stream",
     "text": [
      "Beginning Data Retrieval\n",
      "------------------------\n",
      "Processing Record 0 | City:Hobart\n",
      "Processing Record 1 | City:Hilo\n",
      "Processing Record 2 | City:Qaanaaq\n",
      "Processing Record 3 | City:Flin Flon\n",
      "Processing Record 4 | City:Punta Arenas\n",
      "Processing Record 5 | City:Longyearbyen\n",
      "City Not Found. Skipping...\n",
      "Processing Record 7 | City:Tessalit\n",
      "City Not Found. Skipping...\n",
      "Processing Record 9 | City:Puerto Ayora\n",
      "Processing Record 10 | City:Praia\n",
      "Processing Record 11 | City:Sanghar\n",
      "City Not Found. Skipping...\n",
      "Processing Record 13 | City:Albany\n",
      "Processing Record 14 | City:Rikitea\n",
      "Processing Record 15 | City:Perelyub\n",
      "City Not Found. Skipping...\n",
      "Processing Record 17 | City:Tasiilaq\n",
      "City Not Found. Skipping...\n",
      "Processing Record 19 | City:Hennenman\n",
      "City Not Found. Skipping...\n",
      "Processing Record 21 | City:Butaritari\n",
      "Processing Record 22 | City:Bluff\n",
      "Processing Record 23 | City:Bonavista\n",
      "City Not Found. Skipping...\n",
      "Processing Record 25 | City:Cap Malheureux\n",
      "Processing Record 26 | City:Olafsvik\n",
      "Processing Record 27 | City:Bulgan\n",
      "Processing Record 28 | City:Ostrovnoy\n",
      "Processing Record 29 | City:Ushuaia\n",
      "Processing Record 30 | City:Tiznit Province\n",
      "Processing Record 31 | City:Bengkulu\n",
      "Processing Record 32 | City:Tuktoyaktuk\n",
      "Processing Record 33 | City:Port Blair\n",
      "Processing Record 34 | City:Cape Town\n",
      "Processing Record 35 | City:Khatanga\n",
      "Processing Record 36 | City:Saint Paul Harbor\n",
      "Processing Record 37 | City:Amalner\n",
      "Processing Record 38 | City:Mangai\n",
      "Processing Record 39 | City:Atuona\n",
      "Processing Record 40 | City:Slave Lake\n",
      "Processing Record 41 | City:Gaspar\n",
      "Processing Record 42 | City:Lorengau\n",
      "Processing Record 43 | City:Busselton\n",
      "Processing Record 44 | City:Vaini\n",
      "Processing Record 45 | City:Quatre Cocos\n",
      "Processing Record 46 | City:Makakilo City\n",
      "Processing Record 47 | City:Geraldton\n",
      "Processing Record 48 | City:Nishihara\n",
      "Processing Record 49 | City:Nouadhibou\n",
      "City Not Found. Skipping...\n",
      "City Not Found. Skipping...\n",
      "Processing Record 52 | City:Kapaa\n",
      "Processing Record 53 | City:Jørpeland\n",
      "Processing Record 54 | City:Cidreira\n",
      "Processing Record 55 | City:Hermanus\n",
      "Processing Record 56 | City:Upernavik\n",
      "Processing Record 57 | City:Jamestown\n",
      "Processing Record 58 | City:Anito\n",
      "Processing Record 59 | City:Portland\n",
      "Processing Record 60 | City:Zipaquirá\n",
      "Processing Record 61 | City:Salalah\n",
      "Processing Record 62 | City:Acaraú\n",
      "Processing Record 63 | City:Rørvik\n",
      "City Not Found. Skipping...\n",
      "Processing Record 65 | City:Erzin\n",
      "Processing Record 66 | City:Sambava\n",
      "Processing Record 67 | City:Batagay-Alyta\n",
      "Processing Record 68 | City:Iqaluit\n",
      "Processing Record 69 | City:Tiksi\n",
      "Processing Record 70 | City:Soe\n",
      "Processing Record 71 | City:Tabou\n",
      "Processing Record 72 | City:Hithadhoo\n",
      "Processing Record 73 | City:Foshan\n",
      "Processing Record 74 | City:Okhotsk\n",
      "Processing Record 75 | City:Umm Hājar\n",
      "Processing Record 76 | City:Kailua\n",
      "Processing Record 77 | City:Yellowknife\n",
      "Processing Record 78 | City:Pevek\n",
      "City Not Found. Skipping...\n",
      "Processing Record 80 | City:Mount Gambier\n",
      "Processing Record 81 | City:Dawei\n",
      "Processing Record 82 | City:La Santisima Trinidad\n",
      "Processing Record 83 | City:Port Alfred\n",
      "Processing Record 84 | City:Narsaq\n",
      "Processing Record 85 | City:Bodītī\n",
      "Processing Record 86 | City:Georgetown\n",
      "Processing Record 87 | City:Mar del Plata\n",
      "Processing Record 88 | City:Novoagansk\n",
      "Processing Record 89 | City:Khasan\n",
      "Processing Record 90 | City:Tura\n",
      "Processing Record 91 | City:Petra\n",
      "Processing Record 92 | City:Vilyuysk\n",
      "Processing Record 93 | City:Inhambane\n",
      "Processing Record 94 | City:Laguna\n",
      "Processing Record 95 | City:Santo Antônio do Tauá\n",
      "Processing Record 96 | City:Nikolskoye\n",
      "Processing Record 97 | City:Jinzhou\n",
      "City Not Found. Skipping...\n",
      "Processing Record 99 | City:Ribeira Grande\n",
      "Processing Record 100 | City:Marsaxlokk\n",
      "Processing Record 101 | City:Harpanahalli\n",
      "Processing Record 102 | City:Santa Maria\n",
      "Processing Record 103 | City:Provideniya\n",
      "City Not Found. Skipping...\n",
      "Processing Record 105 | City:Chokurdakh\n",
      "Processing Record 106 | City:Port Lincoln\n",
      "Processing Record 107 | City:Marsh Harbour\n",
      "Processing Record 108 | City:Ust'-Kalmanka\n",
      "Processing Record 109 | City:Gomel\n",
      "Processing Record 110 | City:Aykhal\n",
      "Processing Record 111 | City:Kristianstad\n",
      "Processing Record 112 | City:Port Moresby\n",
      "Processing Record 113 | City:Mount Isa\n",
      "Processing Record 114 | City:Dunedin\n",
      "Processing Record 115 | City:Makhachkala\n",
      "Processing Record 116 | City:Kilrush\n",
      "Processing Record 117 | City:Pangnirtung\n",
      "Processing Record 118 | City:Kirensk\n",
      "Processing Record 119 | City:Grand Gaube\n",
      "Processing Record 120 | City:Mackenzie\n",
      "Processing Record 121 | City:Karligan\n",
      "Processing Record 122 | City:Raudeberg\n",
      "Processing Record 123 | City:São José da Coroa Grande\n",
      "Processing Record 124 | City:Port Hedland\n",
      "Processing Record 125 | City:Castro\n",
      "Processing Record 126 | City:Thompson\n",
      "Processing Record 127 | City:Hasaki\n",
      "Processing Record 128 | City:Aklavik\n",
      "Processing Record 129 | City:Arrondissement de Riom\n",
      "City Not Found. Skipping...\n",
      "Processing Record 131 | City:Ambilobe\n",
      "Processing Record 132 | City:Esperance\n",
      "Processing Record 133 | City:Hakkâri Province\n",
      "Processing Record 134 | City:Avarua\n",
      "Processing Record 135 | City:Soyo\n",
      "Processing Record 136 | City:Severnyy-Kospashskiy\n",
      "Processing Record 137 | City:Norton Shores\n",
      "City Not Found. Skipping...\n",
      "Processing Record 139 | City:Cabo San Lucas\n",
      "Processing Record 140 | City:São João da Barra\n",
      "Processing Record 141 | City:Yar-Sale\n",
      "Processing Record 142 | City:Carnarvon\n",
      "Processing Record 143 | City:Klaksvík\n",
      "City Not Found. Skipping...\n",
      "Processing Record 145 | City:Komsomol'skiy\n",
      "Processing Record 146 | City:Shimoda\n",
      "Processing Record 147 | City:Saldanha\n",
      "Processing Record 148 | City:Suez\n",
      "Processing Record 149 | City:Nome\n",
      "Processing Record 150 | City:Morondava\n",
      "Processing Record 151 | City:Altay\n",
      "Processing Record 152 | City:Kemijärvi\n",
      "Processing Record 153 | City:Mitchell\n",
      "Processing Record 154 | City:Saint-Philippe\n",
      "City Not Found. Skipping...\n",
      "City Not Found. Skipping...\n",
      "City Not Found. Skipping...\n",
      "Processing Record 158 | City:Cartagena\n",
      "Processing Record 159 | City:Kinablangan\n",
      "Processing Record 160 | City:Eureka\n",
      "Processing Record 161 | City:Ciudad Bolivar\n",
      "Processing Record 162 | City:Magadan\n",
      "Processing Record 163 | City:Montes Altos\n",
      "Processing Record 164 | City:Yeppoon\n",
      "Processing Record 165 | City:Lima\n",
      "City Not Found. Skipping...\n",
      "Processing Record 167 | City:Horqueta\n",
      "Processing Record 168 | City:Port Elizabeth\n",
      "Processing Record 169 | City:Manicoré\n",
      "City Not Found. Skipping...\n",
      "Processing Record 171 | City:Rawson\n",
      "Processing Record 172 | City:Bosaso\n",
      "Processing Record 173 | City:Atasū\n",
      "City Not Found. Skipping...\n",
      "City Not Found. Skipping...\n",
      "Processing Record 176 | City:San Cristobal\n",
      "City Not Found. Skipping...\n",
      "Processing Record 178 | City:Arraial do Cabo\n",
      "Processing Record 179 | City:Talnakh\n",
      "Processing Record 180 | City:Awjilah\n",
      "Processing Record 181 | City:Ilebo\n",
      "Processing Record 182 | City:Khedbrahma\n",
      "Processing Record 183 | City:Barrow\n",
      "Processing Record 184 | City:Dauphin\n",
      "Processing Record 185 | City:Berlevåg\n",
      "Processing Record 186 | City:Palmer\n",
      "City Not Found. Skipping...\n",
      "Processing Record 188 | City:Alyangula\n",
      "Processing Record 189 | City:Cherskiy\n",
      "Processing Record 190 | City:Nouna\n",
      "Processing Record 191 | City:Almazar\n",
      "Processing Record 192 | City:Tomatlán\n",
      "Processing Record 193 | City:Oriximiná\n",
      "City Not Found. Skipping...\n",
      "Processing Record 195 | City:Billings Metropolitan Area\n",
      "Processing Record 196 | City:Saint George\n",
      "Processing Record 197 | City:Ponta do Sol\n",
      "Processing Record 198 | City:Torbay\n",
      "Processing Record 199 | City:Fairbanks\n",
      "Processing Record 200 | City:Sirte\n",
      "Processing Record 201 | City:Norman Wells\n",
      "Processing Record 202 | City:Necochea\n",
      "Processing Record 203 | City:Machico\n",
      "Processing Record 204 | City:Asunción\n",
      "Processing Record 205 | City:Lar\n",
      "Processing Record 206 | City:Luanda\n",
      "City Not Found. Skipping...\n",
      "Processing Record 208 | City:San Quintín\n",
      "City Not Found. Skipping...\n",
      "Processing Record 210 | City:Manakara\n",
      "City Not Found. Skipping...\n",
      "Processing Record 212 | City:Katsuura\n",
      "Processing Record 213 | City:Sakhnovshchyna\n",
      "Processing Record 214 | City:Cayenne\n",
      "Processing Record 215 | City:Lavrentiya\n",
      "Processing Record 216 | City:Pacific Grove\n",
      "Processing Record 217 | City:Bubaque\n",
      "Processing Record 218 | City:Beringovskiy\n",
      "Processing Record 219 | City:East London\n"
     ]
    },
    {
     "name": "stdout",
     "output_type": "stream",
     "text": [
      "Processing Record 220 | City:Pisco\n",
      "Processing Record 221 | City:Karasjok\n",
      "City Not Found. Skipping...\n",
      "Processing Record 223 | City:Misratah\n",
      "City Not Found. Skipping...\n",
      "Processing Record 225 | City:Kamenka\n",
      "Processing Record 226 | City:Shingū\n",
      "Processing Record 227 | City:Ambulu\n",
      "Processing Record 228 | City:Firminy\n",
      "Processing Record 229 | City:Mahébourg\n",
      "Processing Record 230 | City:Husavik\n",
      "Processing Record 231 | City:Kłobuck\n",
      "Processing Record 232 | City:Pirgos\n",
      "Processing Record 233 | City:Vaitape\n",
      "Processing Record 234 | City:Luau\n",
      "Processing Record 235 | City:North Myrtle Beach\n",
      "Processing Record 236 | City:Touros\n",
      "Processing Record 237 | City:Marfino\n",
      "City Not Found. Skipping...\n",
      "Processing Record 239 | City:Foumban\n",
      "Processing Record 240 | City:Kaitangata\n",
      "City Not Found. Skipping...\n",
      "Processing Record 242 | City:Carahue\n",
      "Processing Record 243 | City:Birjand\n",
      "Processing Record 244 | City:Ko Samui\n",
      "Processing Record 245 | City:Neyshabur\n",
      "Processing Record 246 | City:São Filipe\n",
      "Processing Record 247 | City:Darhan\n",
      "Processing Record 248 | City:Kumul\n",
      "Processing Record 249 | City:Muisne\n",
      "Processing Record 250 | City:Gamboma\n",
      "Processing Record 251 | City:Kampene\n",
      "Processing Record 252 | City:Kavieng\n",
      "Processing Record 253 | City:Arlit\n",
      "Processing Record 254 | City:Kidal\n",
      "Processing Record 255 | City:Lebu\n",
      "Processing Record 256 | City:Katherine\n",
      "Processing Record 257 | City:Pemba\n",
      "City Not Found. Skipping...\n",
      "Processing Record 259 | City:High Prairie\n",
      "Processing Record 260 | City:Kruisfontein\n",
      "Processing Record 261 | City:New Norfolk\n",
      "Processing Record 262 | City:Avilés\n",
      "Processing Record 263 | City:Mossamedes\n",
      "Processing Record 264 | City:Sobolevo\n",
      "Processing Record 265 | City:Sola\n",
      "Processing Record 266 | City:Coquimbo\n",
      "Processing Record 267 | City:Price\n",
      "Processing Record 268 | City:Zhovkva\n",
      "Processing Record 269 | City:Livramento\n",
      "City Not Found. Skipping...\n",
      "City Not Found. Skipping...\n",
      "Processing Record 272 | City:Klyuchi\n",
      "Processing Record 273 | City:Mahajanga\n",
      "Processing Record 274 | City:Lagoa\n",
      "Processing Record 275 | City:Kigali\n",
      "City Not Found. Skipping...\n",
      "Processing Record 277 | City:Port Hardy\n",
      "Processing Record 278 | City:Pochutla\n",
      "Processing Record 279 | City:Kearney\n",
      "Processing Record 280 | City:Pangody\n",
      "Processing Record 281 | City:Waitati\n",
      "City Not Found. Skipping...\n",
      "Processing Record 283 | City:Roma\n",
      "City Not Found. Skipping...\n",
      "Processing Record 285 | City:Tuatapere\n",
      "Processing Record 286 | City:Kwang Binh\n",
      "Processing Record 287 | City:Oleksandrivka\n",
      "Processing Record 288 | City:Bagdarin\n",
      "Processing Record 289 | City:Genhe\n",
      "Processing Record 290 | City:Bredasdorp\n",
      "Processing Record 291 | City:Xapuri\n",
      "Processing Record 292 | City:Half Moon Bay\n",
      "Processing Record 293 | City:Bridlington\n",
      "Processing Record 294 | City:Labuhan\n",
      "Processing Record 295 | City:Dikson\n",
      "City Not Found. Skipping...\n",
      "Processing Record 297 | City:Severo-Kuril'sk\n",
      "Processing Record 298 | City:Bratsk\n",
      "Processing Record 299 | City:Lompoc\n",
      "Processing Record 300 | City:Villa del Rosario\n",
      "Processing Record 301 | City:Koslan\n",
      "Processing Record 302 | City:Baiyin\n",
      "Processing Record 303 | City:Uthal\n",
      "Processing Record 304 | City:Maniitsoq\n",
      "Processing Record 305 | City:La Rioja\n",
      "City Not Found. Skipping...\n",
      "Processing Record 307 | City:Ulaanbaatar\n",
      "Processing Record 308 | City:Rassvet\n",
      "Processing Record 309 | City:Ca Mau\n",
      "Processing Record 310 | City:College\n",
      "Processing Record 311 | City:Kaduqli\n",
      "Processing Record 312 | City:Cooma\n",
      "Processing Record 313 | City:Khuldābād\n",
      "Processing Record 314 | City:Santo Augusto\n",
      "Processing Record 315 | City:Aloleng\n",
      "Processing Record 316 | City:Padang\n",
      "City Not Found. Skipping...\n",
      "Processing Record 318 | City:Teya\n",
      "Processing Record 319 | City:Linxia Chengguanzhen\n",
      "Processing Record 320 | City:Srednekolymsk\n",
      "Processing Record 321 | City:Ziarat\n",
      "Processing Record 322 | City:Beira\n",
      "Processing Record 323 | City:Vanimo\n",
      "Processing Record 324 | City:Udachny\n",
      "Processing Record 325 | City:Sinnamary\n",
      "Processing Record 326 | City:Ossora\n",
      "Processing Record 327 | City:Bonthe\n",
      "Processing Record 328 | City:Horsham\n",
      "City Not Found. Skipping...\n",
      "Processing Record 330 | City:Lewistown\n",
      "Processing Record 331 | City:Nanortalik\n",
      "Processing Record 332 | City:Sinjār\n",
      "Processing Record 333 | City:Bathsheba\n",
      "Processing Record 334 | City:Al Bardīyah\n",
      "Processing Record 335 | City:Grindavik\n",
      "Processing Record 336 | City:Victoria\n",
      "Processing Record 337 | City:Tilichiki\n",
      "Processing Record 338 | City:Derzhavīnsk\n",
      "Processing Record 339 | City:Porosozero\n",
      "Processing Record 340 | City:Cockburn Town\n",
      "City Not Found. Skipping...\n",
      "Processing Record 342 | City:Samarai\n",
      "Processing Record 343 | City:Bilma\n",
      "Processing Record 344 | City:Nipawin\n",
      "Processing Record 345 | City:Vila Velha\n",
      "Processing Record 346 | City:Kitimat\n",
      "Processing Record 347 | City:Biak\n",
      "City Not Found. Skipping...\n",
      "Processing Record 349 | City:Zhigansk\n",
      "Processing Record 350 | City:Auki\n",
      "Processing Record 351 | City:Barhi\n",
      "City Not Found. Skipping...\n",
      "Processing Record 353 | City:Saktī\n",
      "Processing Record 354 | City:Namatanai\n",
      "Processing Record 355 | City:Baykal'sk\n",
      "City Not Found. Skipping...\n",
      "Processing Record 357 | City:Baie-Comeau\n",
      "City Not Found. Skipping...\n",
      "Processing Record 359 | City:San Patricio\n",
      "Processing Record 360 | City:Ilulissat\n",
      "Processing Record 361 | City:Forest Acres\n",
      "Processing Record 362 | City:Macapá\n",
      "Processing Record 363 | City:Naze\n",
      "Processing Record 364 | City:Høyanger\n",
      "Processing Record 365 | City:Turukhansk\n",
      "Processing Record 366 | City:Atikokan\n",
      "Processing Record 367 | City:Freeport\n",
      "Processing Record 368 | City:Chapais\n",
      "City Not Found. Skipping...\n",
      "Processing Record 370 | City:Estelle\n",
      "Processing Record 371 | City:Cascais\n",
      "Processing Record 372 | City:Remanso\n",
      "Processing Record 373 | City:Kalmunai\n",
      "Processing Record 374 | City:Manavālakurichi\n",
      "Processing Record 375 | City:Veinticinco de Mayo\n",
      "Processing Record 376 | City:Abu Kamal\n",
      "Processing Record 377 | City:Jatibonico\n",
      "City Not Found. Skipping...\n",
      "Processing Record 379 | City:Morgan City\n",
      "Processing Record 380 | City:Les Herbiers\n",
      "Processing Record 381 | City:Karratha\n",
      "Processing Record 382 | City:Bilibino\n",
      "Processing Record 383 | City:Souillac\n",
      "City Not Found. Skipping...\n",
      "Processing Record 385 | City:Harper\n",
      "Processing Record 386 | City:Kangaatsiaq\n",
      "Processing Record 387 | City:Nong Khai\n",
      "Processing Record 388 | City:Agirish\n",
      "Processing Record 389 | City:Fort Nelson\n",
      "Processing Record 390 | City:Clyde River\n",
      "City Not Found. Skipping...\n",
      "Processing Record 392 | City:Poum\n",
      "Processing Record 393 | City:Tazovsky\n",
      "Processing Record 394 | City:Pontianak\n",
      "Processing Record 395 | City:Pingzhuang\n",
      "Processing Record 396 | City:Amod\n",
      "Processing Record 397 | City:Nata\n",
      "Processing Record 398 | City:Geraldton\n",
      "Processing Record 399 | City:Charters Towers\n",
      "Processing Record 400 | City:Southbridge\n",
      "Processing Record 401 | City:Kroya\n",
      "Processing Record 402 | City:Kormilovka\n",
      "Processing Record 403 | City:Mandalgovi\n",
      "Processing Record 404 | City:Kenai\n",
      "Processing Record 405 | City:Agua Verde\n",
      "Processing Record 406 | City:Chara\n",
      "Processing Record 407 | City:Portree\n",
      "Processing Record 408 | City:Lüderitz\n",
      "Processing Record 409 | City:Ahipara\n",
      "Processing Record 410 | City:Osakarovka\n",
      "Processing Record 411 | City:Bambous Virieux\n",
      "Processing Record 412 | City:Caravelas\n",
      "City Not Found. Skipping...\n",
      "Processing Record 414 | City:Vardø\n",
      "Processing Record 415 | City:Rio Grande\n",
      "Processing Record 416 | City:Tamandaré\n",
      "Processing Record 417 | City:Roebourne\n",
      "Processing Record 418 | City:Huarmey\n",
      "Processing Record 419 | City:Hofn\n",
      "Processing Record 420 | City:Nyurba\n",
      "Processing Record 421 | City:Novyy Svit\n",
      "Processing Record 422 | City:Teresina\n",
      "Processing Record 423 | City:Shibetsu\n",
      "Processing Record 424 | City:Hailar\n",
      "Processing Record 425 | City:Barcelos\n",
      "Processing Record 426 | City:Ixtapa\n",
      "Processing Record 427 | City:Faanui\n",
      "Processing Record 428 | City:Boca do Acre\n",
      "Processing Record 429 | City:Gizo Government Station\n",
      "Processing Record 430 | City:Panalingaan\n",
      "Processing Record 431 | City:High Level\n",
      "Processing Record 432 | City:Nago\n",
      "Processing Record 433 | City:Dawlatabad\n",
      "Processing Record 434 | City:Acapulco de Juárez\n",
      "Processing Record 435 | City:Baykit\n",
      "Processing Record 436 | City:Mogadishu\n",
      "Processing Record 437 | City:Vagay\n",
      "Processing Record 438 | City:Conde\n",
      "Processing Record 439 | City:Winnemucca\n",
      "Processing Record 440 | City:North Platte\n"
     ]
    },
    {
     "name": "stdout",
     "output_type": "stream",
     "text": [
      "Processing Record 441 | City:Bethel\n",
      "Processing Record 442 | City:Zabol\n",
      "Processing Record 443 | City:Oddur\n",
      "Processing Record 444 | City:Aksu\n",
      "Processing Record 445 | City:Havøysund\n",
      "Processing Record 446 | City:Assiut\n",
      "Processing Record 447 | City:Saskylakh\n",
      "Processing Record 448 | City:Taoudenni\n",
      "City Not Found. Skipping...\n",
      "Processing Record 450 | City:Vinhedo\n",
      "Processing Record 451 | City:Muzhi\n",
      "Processing Record 452 | City:Wanning\n",
      "Processing Record 453 | City:Okha\n",
      "Processing Record 454 | City:Warri\n",
      "Processing Record 455 | City:Khandyga\n",
      "Processing Record 456 | City:Colón\n",
      "Processing Record 457 | City:Charlottetown\n",
      "Processing Record 458 | City:Kahului\n",
      "Processing Record 459 | City:Dhidhdhoo\n",
      "City Not Found. Skipping...\n",
      "Processing Record 461 | City:Te Anau\n",
      "Processing Record 462 | City:Turmalina\n",
      "Processing Record 463 | City:Shintomi\n",
      "City Not Found. Skipping...\n",
      "Processing Record 465 | City:Waipawa\n",
      "Processing Record 466 | City:Zárate\n",
      "Processing Record 467 | City:Banda Aceh\n",
      "Processing Record 468 | City:Skjervøy\n",
      "Processing Record 469 | City:Umluj\n",
      "Processing Record 470 | City:Brasília\n",
      "Processing Record 471 | City:Canguçu\n",
      "Processing Record 472 | City:Lázaro Cárdenas\n",
      "Processing Record 473 | City:Trairi\n",
      "Processing Record 474 | City:Constitucion\n",
      "Processing Record 475 | City:Alofi\n",
      "Processing Record 476 | City:Seydişehir\n",
      "Processing Record 477 | City:Kargasok\n",
      "Processing Record 478 | City:Yulara\n",
      "Processing Record 479 | City:Yarensk\n",
      "Processing Record 480 | City:Xiaoshi\n",
      "Processing Record 481 | City:Kampot\n",
      "Processing Record 482 | City:Limbang\n",
      "Processing Record 483 | City:Kununurra\n",
      "Processing Record 484 | City:Porto Novo\n",
      "Processing Record 485 | City:Waddān\n",
      "Processing Record 486 | City:Calabozo\n",
      "Processing Record 487 | City:Buraidah\n",
      "Processing Record 488 | City:Moses Lake\n",
      "Processing Record 489 | City:Hohhot\n",
      "Processing Record 490 | City:Carbonia\n",
      "Processing Record 491 | City:Chicama\n",
      "Processing Record 492 | City:Hobbs\n",
      "Processing Record 493 | City:Nantucket\n",
      "Processing Record 494 | City:Vostok\n",
      "Processing Record 495 | City:Comodoro Rivadavia\n",
      "Processing Record 496 | City:İstisu\n",
      "Processing Record 497 | City:Blue Springs\n",
      "Processing Record 498 | City:Ugoofaaru\n",
      "Processing Record 499 | City:Kavaratti\n",
      "Processing Record 500 | City:Massa Marittima\n",
      "Processing Record 501 | City:Alice Springs\n",
      "Processing Record 502 | City:Ferme-Neuve\n",
      "Processing Record 503 | City:Belaya Gora\n",
      "Processing Record 504 | City:Vestmannaeyjar\n",
      "Processing Record 505 | City:Leningradskiy\n",
      "Processing Record 506 | City:Ballina\n",
      "Processing Record 507 | City:Mitsamiouli\n",
      "Processing Record 508 | City:Aztec\n",
      "Processing Record 509 | City:Richards Bay\n",
      "Processing Record 510 | City:São Paulo de Olivença\n",
      "Processing Record 511 | City:Yamada\n",
      "Processing Record 512 | City:Taltal\n",
      "Processing Record 513 | City:Jacala\n",
      "Processing Record 514 | City:Chui\n",
      "City Not Found. Skipping...\n",
      "Processing Record 516 | City:Seoul\n",
      "Processing Record 517 | City:Santa Cruz de Barahona\n",
      "Processing Record 518 | City:Sitka\n",
      "City Not Found. Skipping...\n",
      "Processing Record 520 | City:Kisangani\n",
      "Processing Record 521 | City:Hamilton\n",
      "Processing Record 522 | City:Nizāmābād\n",
      "Processing Record 523 | City:Kuusamo\n",
      "Processing Record 524 | City:Pitsunda\n",
      "Processing Record 525 | City:Hirara\n",
      "Processing Record 526 | City:Riihimäki\n",
      "Processing Record 527 | City:Basco\n",
      "Processing Record 528 | City:Takoradze\n",
      "Processing Record 529 | City:Muros\n",
      "Processing Record 530 | City:Barsovo\n",
      "Processing Record 531 | City:Saint-Pierre\n",
      "Processing Record 532 | City:Tonstad\n",
      "City Not Found. Skipping...\n",
      "Processing Record 534 | City:San Jeronimo\n",
      "Processing Record 535 | City:Jieshi\n",
      "Processing Record 536 | City:Inta\n",
      "Processing Record 537 | City:Vikýřovice\n",
      "Processing Record 538 | City:Medininagar\n",
      "Processing Record 539 | City:Östersund\n",
      "Processing Record 540 | City:Itoman\n",
      "Processing Record 541 | City:Gao\n",
      "Processing Record 542 | City:Katiola\n",
      "City Not Found. Skipping...\n",
      "Processing Record 544 | City:Beloha\n",
      "Processing Record 545 | City:Kościerzyna\n",
      "Processing Record 546 | City:Shetpe\n",
      "Processing Record 547 | City:Kirkwall\n",
      "Processing Record 548 | City:Fortuna\n",
      "Processing Record 549 | City:Lábrea\n",
      "Processing Record 550 | City:Bantry\n",
      "Processing Record 551 | City:Siuna\n",
      "Processing Record 552 | City:Lensk\n",
      "City Not Found. Skipping...\n",
      "City Not Found. Skipping...\n",
      "Processing Record 555 | City:Pimentel\n",
      "Processing Record 556 | City:Pedernales\n",
      "Processing Record 557 | City:Suozhen\n",
      "Processing Record 558 | City:Doka\n",
      "Processing Record 559 | City:Havelock\n",
      "Processing Record 560 | City:Ol'ga\n",
      "Processing Record 561 | City:Mokobeng\n",
      "Processing Record 562 | City:Kombissiri\n",
      "Processing Record 563 | City:Evensk\n",
      "Processing Record 564 | City:Havre-St-Pierre\n",
      "Processing Record 565 | City:Bartica\n",
      "Processing Record 566 | City:Myanaung\n",
      "Processing Record 567 | City:São Félix do Xingu\n",
      "Processing Record 568 | City:Noumea\n",
      "Processing Record 569 | City:Drayton Valley\n",
      "City Not Found. Skipping...\n",
      "Processing Record 571 | City:Salekhard\n",
      "Processing Record 572 | City:Coahuayana Viejo\n",
      "Processing Record 573 | City:Gbarnga\n",
      "Processing Record 574 | City:Kulevcha\n",
      "Processing Record 575 | City:Sioux Lookout\n",
      "City Not Found. Skipping...\n",
      "Processing Record 577 | City:Mihijam\n",
      "Processing Record 578 | City:Cradock\n",
      "Processing Record 579 | City:La Ronge\n",
      "Processing Record 580 | City:Mombetsu\n",
      "Processing Record 581 | City:Uglegorsk\n",
      "Processing Record 582 | City:Tolmachëvo\n",
      "Processing Record 583 | City:Kawalu\n",
      "Processing Record 584 | City:Diu\n",
      "Processing Record 585 | City:Hamilton\n",
      "Processing Record 586 | City:Mfou\n",
      "Processing Record 587 | City:Adrar\n",
      "Processing Record 588 | City:Verkhnyaya Inta\n",
      "City Not Found. Skipping...\n",
      "Processing Record 590 | City:Haines Junction\n",
      "Processing Record 591 | City:Deputatsky\n",
      "Processing Record 592 | City:Tshela\n",
      "Processing Record 593 | City:Carberry\n",
      "Processing Record 594 | City:Quzhou\n",
      "Processing Record 595 | City:Nurota\n",
      "Processing Record 596 | City:Port Macquarie\n",
      "City Not Found. Skipping...\n",
      "City Not Found. Skipping...\n",
      "Processing Record 599 | City:Abay\n"
     ]
    }
   ],
   "source": [
    "#Create empty lists for API call data collection and subsequent dataframe\n",
    "found_cities = []\n",
    "city_latitude = []\n",
    "city_longitude =[]\n",
    "city_max_temp = []\n",
    "city_humidity = []\n",
    "city_cloudiness = []\n",
    "city_windspeed = []\n",
    "city_country = []\n",
    "date_of_call = []\n",
    "\n",
    "base_url = \"http://api.openweathermap.org/data/2.5/weather?\"\n",
    "\n",
    "print(\"Beginning Data Retrieval\")\n",
    "print(\"------------------------\")\n",
    "for i in range(len(cities)):\n",
    "    search_city = cities[i].city_name.strip(\"()''\")\n",
    "    search_country = cities[i].country_code.strip(\"()''\")\n",
    "    url=str(base_url + \"q=\" + search_city + \",\" + search_country + \"&units=metric&appid=\" + api_key)\n",
    "    try:\n",
    "        json_response = requests.get(url).json()\n",
    "        print(f\"Processing Record {i} | City:\" + str(json_response[\"name\"]))\n",
    "        found_cities.append(json_response[\"name\"])\n",
    "        city_latitude.append(json_response[\"coord\"][\"lat\"])\n",
    "        city_longitude.append(json_response[\"coord\"][\"lon\"])\n",
    "        city_max_temp.append(json_response[\"main\"][\"temp_max\"])\n",
    "        city_humidity.append(json_response[\"main\"][\"humidity\"])\n",
    "        city_cloudiness.append(json_response[\"clouds\"][\"all\"])\n",
    "        city_windspeed.append(json_response[\"wind\"][\"speed\"])\n",
    "        city_country.append(json_response[\"sys\"][\"country\"])\n",
    "        date_of_call.append(json_response[\"dt\"])\n",
    "    except KeyError:\n",
    "        print(\"City Not Found. Skipping...\")\n",
    "    "
   ]
  },
  {
   "cell_type": "markdown",
   "metadata": {},
   "source": [
    "### Convert Raw Data to DataFrame\n",
    "* Export the city data into a .csv.\n",
    "* Display the DataFrame"
   ]
  },
  {
   "cell_type": "code",
   "execution_count": 120,
   "metadata": {},
   "outputs": [
    {
     "data": {
      "text/html": [
       "<div>\n",
       "<style scoped>\n",
       "    .dataframe tbody tr th:only-of-type {\n",
       "        vertical-align: middle;\n",
       "    }\n",
       "\n",
       "    .dataframe tbody tr th {\n",
       "        vertical-align: top;\n",
       "    }\n",
       "\n",
       "    .dataframe thead th {\n",
       "        text-align: right;\n",
       "    }\n",
       "</style>\n",
       "<table border=\"1\" class=\"dataframe\">\n",
       "  <thead>\n",
       "    <tr style=\"text-align: right;\">\n",
       "      <th></th>\n",
       "      <th>City</th>\n",
       "      <th>Lat</th>\n",
       "      <th>Long</th>\n",
       "      <th>Max Temp (C)</th>\n",
       "      <th>Humidity</th>\n",
       "      <th>Cloudiness</th>\n",
       "      <th>Windspeed</th>\n",
       "      <th>Country Code</th>\n",
       "      <th>Date</th>\n",
       "    </tr>\n",
       "  </thead>\n",
       "  <tbody>\n",
       "    <tr>\n",
       "      <th>0</th>\n",
       "      <td>Hobart</td>\n",
       "      <td>-42.88</td>\n",
       "      <td>147.33</td>\n",
       "      <td>15.56</td>\n",
       "      <td>54</td>\n",
       "      <td>20</td>\n",
       "      <td>5.70</td>\n",
       "      <td>AU</td>\n",
       "      <td>1601264934</td>\n",
       "    </tr>\n",
       "    <tr>\n",
       "      <th>1</th>\n",
       "      <td>Hilo</td>\n",
       "      <td>19.73</td>\n",
       "      <td>-155.09</td>\n",
       "      <td>27.00</td>\n",
       "      <td>69</td>\n",
       "      <td>20</td>\n",
       "      <td>3.60</td>\n",
       "      <td>US</td>\n",
       "      <td>1601265532</td>\n",
       "    </tr>\n",
       "    <tr>\n",
       "      <th>2</th>\n",
       "      <td>Qaanaaq</td>\n",
       "      <td>77.48</td>\n",
       "      <td>-69.36</td>\n",
       "      <td>-11.03</td>\n",
       "      <td>78</td>\n",
       "      <td>37</td>\n",
       "      <td>3.66</td>\n",
       "      <td>GL</td>\n",
       "      <td>1601265709</td>\n",
       "    </tr>\n",
       "    <tr>\n",
       "      <th>3</th>\n",
       "      <td>Flin Flon</td>\n",
       "      <td>54.77</td>\n",
       "      <td>-101.86</td>\n",
       "      <td>5.81</td>\n",
       "      <td>83</td>\n",
       "      <td>81</td>\n",
       "      <td>4.10</td>\n",
       "      <td>CA</td>\n",
       "      <td>1601265445</td>\n",
       "    </tr>\n",
       "    <tr>\n",
       "      <th>4</th>\n",
       "      <td>Punta Arenas</td>\n",
       "      <td>-53.15</td>\n",
       "      <td>-70.92</td>\n",
       "      <td>6.00</td>\n",
       "      <td>75</td>\n",
       "      <td>20</td>\n",
       "      <td>15.40</td>\n",
       "      <td>CL</td>\n",
       "      <td>1601265709</td>\n",
       "    </tr>\n",
       "    <tr>\n",
       "      <th>...</th>\n",
       "      <td>...</td>\n",
       "      <td>...</td>\n",
       "      <td>...</td>\n",
       "      <td>...</td>\n",
       "      <td>...</td>\n",
       "      <td>...</td>\n",
       "      <td>...</td>\n",
       "      <td>...</td>\n",
       "      <td>...</td>\n",
       "    </tr>\n",
       "    <tr>\n",
       "      <th>528</th>\n",
       "      <td>Carberry</td>\n",
       "      <td>49.87</td>\n",
       "      <td>-99.36</td>\n",
       "      <td>11.00</td>\n",
       "      <td>66</td>\n",
       "      <td>90</td>\n",
       "      <td>6.20</td>\n",
       "      <td>CA</td>\n",
       "      <td>1601265889</td>\n",
       "    </tr>\n",
       "    <tr>\n",
       "      <th>529</th>\n",
       "      <td>Quzhou</td>\n",
       "      <td>28.96</td>\n",
       "      <td>118.87</td>\n",
       "      <td>20.59</td>\n",
       "      <td>85</td>\n",
       "      <td>100</td>\n",
       "      <td>2.33</td>\n",
       "      <td>CN</td>\n",
       "      <td>1601265889</td>\n",
       "    </tr>\n",
       "    <tr>\n",
       "      <th>530</th>\n",
       "      <td>Nurota</td>\n",
       "      <td>40.56</td>\n",
       "      <td>65.69</td>\n",
       "      <td>13.00</td>\n",
       "      <td>47</td>\n",
       "      <td>63</td>\n",
       "      <td>3.10</td>\n",
       "      <td>UZ</td>\n",
       "      <td>1601265890</td>\n",
       "    </tr>\n",
       "    <tr>\n",
       "      <th>531</th>\n",
       "      <td>Port Macquarie</td>\n",
       "      <td>-31.43</td>\n",
       "      <td>152.92</td>\n",
       "      <td>20.00</td>\n",
       "      <td>44</td>\n",
       "      <td>45</td>\n",
       "      <td>0.89</td>\n",
       "      <td>AU</td>\n",
       "      <td>1601265890</td>\n",
       "    </tr>\n",
       "    <tr>\n",
       "      <th>532</th>\n",
       "      <td>Abay</td>\n",
       "      <td>49.63</td>\n",
       "      <td>72.85</td>\n",
       "      <td>6.00</td>\n",
       "      <td>70</td>\n",
       "      <td>1</td>\n",
       "      <td>1.00</td>\n",
       "      <td>KZ</td>\n",
       "      <td>1601265891</td>\n",
       "    </tr>\n",
       "  </tbody>\n",
       "</table>\n",
       "<p>533 rows × 9 columns</p>\n",
       "</div>"
      ],
      "text/plain": [
       "               City    Lat    Long  Max Temp (C)  Humidity  Cloudiness  \\\n",
       "0            Hobart -42.88  147.33         15.56        54          20   \n",
       "1              Hilo  19.73 -155.09         27.00        69          20   \n",
       "2           Qaanaaq  77.48  -69.36        -11.03        78          37   \n",
       "3         Flin Flon  54.77 -101.86          5.81        83          81   \n",
       "4      Punta Arenas -53.15  -70.92          6.00        75          20   \n",
       "..              ...    ...     ...           ...       ...         ...   \n",
       "528        Carberry  49.87  -99.36         11.00        66          90   \n",
       "529          Quzhou  28.96  118.87         20.59        85         100   \n",
       "530          Nurota  40.56   65.69         13.00        47          63   \n",
       "531  Port Macquarie -31.43  152.92         20.00        44          45   \n",
       "532            Abay  49.63   72.85          6.00        70           1   \n",
       "\n",
       "     Windspeed Country Code        Date  \n",
       "0         5.70           AU  1601264934  \n",
       "1         3.60           US  1601265532  \n",
       "2         3.66           GL  1601265709  \n",
       "3         4.10           CA  1601265445  \n",
       "4        15.40           CL  1601265709  \n",
       "..         ...          ...         ...  \n",
       "528       6.20           CA  1601265889  \n",
       "529       2.33           CN  1601265889  \n",
       "530       3.10           UZ  1601265890  \n",
       "531       0.89           AU  1601265890  \n",
       "532       1.00           KZ  1601265891  \n",
       "\n",
       "[533 rows x 9 columns]"
      ]
     },
     "execution_count": 120,
     "metadata": {},
     "output_type": "execute_result"
    }
   ],
   "source": [
    "cities_df = pd.DataFrame({\n",
    "    \"City\":found_cities,\n",
    "    \"Lat\":city_latitude,\n",
    "    \"Long\":city_longitude,\n",
    "    \"Max Temp (C)\":city_max_temp,\n",
    "    \"Humidity\":city_humidity,\n",
    "    \"Cloudiness\":city_cloudiness,\n",
    "    \"Windspeed\":city_windspeed,\n",
    "    \"Country Code\":city_country,\n",
    "    \"Date\":date_of_call \n",
    "})\n",
    "\n",
    "cities_df.to_csv(\"city_data_27-9\",index=False)\n",
    "\n",
    "cities_df"
   ]
  },
  {
   "cell_type": "code",
   "execution_count": 83,
   "metadata": {},
   "outputs": [
    {
     "data": {
      "text/html": [
       "<div>\n",
       "<style scoped>\n",
       "    .dataframe tbody tr th:only-of-type {\n",
       "        vertical-align: middle;\n",
       "    }\n",
       "\n",
       "    .dataframe tbody tr th {\n",
       "        vertical-align: top;\n",
       "    }\n",
       "\n",
       "    .dataframe thead th {\n",
       "        text-align: right;\n",
       "    }\n",
       "</style>\n",
       "<table border=\"1\" class=\"dataframe\">\n",
       "  <thead>\n",
       "    <tr style=\"text-align: right;\">\n",
       "      <th></th>\n",
       "      <th>Lat</th>\n",
       "      <th>Long</th>\n",
       "      <th>Max Temp (C)</th>\n",
       "      <th>Humidity</th>\n",
       "      <th>Cloudiness</th>\n",
       "      <th>Windspeed</th>\n",
       "      <th>Date</th>\n",
       "    </tr>\n",
       "  </thead>\n",
       "  <tbody>\n",
       "    <tr>\n",
       "      <th>count</th>\n",
       "      <td>533.000000</td>\n",
       "      <td>533.000000</td>\n",
       "      <td>533.000000</td>\n",
       "      <td>533.000000</td>\n",
       "      <td>533.000000</td>\n",
       "      <td>533.000000</td>\n",
       "      <td>5.330000e+02</td>\n",
       "    </tr>\n",
       "    <tr>\n",
       "      <th>mean</th>\n",
       "      <td>21.627542</td>\n",
       "      <td>19.297336</td>\n",
       "      <td>17.538011</td>\n",
       "      <td>72.724203</td>\n",
       "      <td>49.589118</td>\n",
       "      <td>3.787730</td>\n",
       "      <td>1.601266e+09</td>\n",
       "    </tr>\n",
       "    <tr>\n",
       "      <th>std</th>\n",
       "      <td>33.727941</td>\n",
       "      <td>90.440634</td>\n",
       "      <td>9.064390</td>\n",
       "      <td>19.837804</td>\n",
       "      <td>38.278143</td>\n",
       "      <td>2.550803</td>\n",
       "      <td>1.033848e+02</td>\n",
       "    </tr>\n",
       "    <tr>\n",
       "      <th>min</th>\n",
       "      <td>-54.800000</td>\n",
       "      <td>-175.200000</td>\n",
       "      <td>-11.030000</td>\n",
       "      <td>8.000000</td>\n",
       "      <td>0.000000</td>\n",
       "      <td>0.100000</td>\n",
       "      <td>1.601265e+09</td>\n",
       "    </tr>\n",
       "    <tr>\n",
       "      <th>25%</th>\n",
       "      <td>-6.840000</td>\n",
       "      <td>-59.520000</td>\n",
       "      <td>9.440000</td>\n",
       "      <td>63.000000</td>\n",
       "      <td>9.000000</td>\n",
       "      <td>2.000000</td>\n",
       "      <td>1.601266e+09</td>\n",
       "    </tr>\n",
       "    <tr>\n",
       "      <th>50%</th>\n",
       "      <td>24.030000</td>\n",
       "      <td>25.570000</td>\n",
       "      <td>18.870000</td>\n",
       "      <td>78.000000</td>\n",
       "      <td>47.000000</td>\n",
       "      <td>3.290000</td>\n",
       "      <td>1.601266e+09</td>\n",
       "    </tr>\n",
       "    <tr>\n",
       "      <th>75%</th>\n",
       "      <td>50.680000</td>\n",
       "      <td>100.350000</td>\n",
       "      <td>25.140000</td>\n",
       "      <td>87.000000</td>\n",
       "      <td>90.000000</td>\n",
       "      <td>5.100000</td>\n",
       "      <td>1.601266e+09</td>\n",
       "    </tr>\n",
       "    <tr>\n",
       "      <th>max</th>\n",
       "      <td>78.220000</td>\n",
       "      <td>179.320000</td>\n",
       "      <td>36.000000</td>\n",
       "      <td>100.000000</td>\n",
       "      <td>100.000000</td>\n",
       "      <td>20.800000</td>\n",
       "      <td>1.601266e+09</td>\n",
       "    </tr>\n",
       "  </tbody>\n",
       "</table>\n",
       "</div>"
      ],
      "text/plain": [
       "              Lat        Long  Max Temp (C)    Humidity  Cloudiness  \\\n",
       "count  533.000000  533.000000    533.000000  533.000000  533.000000   \n",
       "mean    21.627542   19.297336     17.538011   72.724203   49.589118   \n",
       "std     33.727941   90.440634      9.064390   19.837804   38.278143   \n",
       "min    -54.800000 -175.200000    -11.030000    8.000000    0.000000   \n",
       "25%     -6.840000  -59.520000      9.440000   63.000000    9.000000   \n",
       "50%     24.030000   25.570000     18.870000   78.000000   47.000000   \n",
       "75%     50.680000  100.350000     25.140000   87.000000   90.000000   \n",
       "max     78.220000  179.320000     36.000000  100.000000  100.000000   \n",
       "\n",
       "        Windspeed          Date  \n",
       "count  533.000000  5.330000e+02  \n",
       "mean     3.787730  1.601266e+09  \n",
       "std      2.550803  1.033848e+02  \n",
       "min      0.100000  1.601265e+09  \n",
       "25%      2.000000  1.601266e+09  \n",
       "50%      3.290000  1.601266e+09  \n",
       "75%      5.100000  1.601266e+09  \n",
       "max     20.800000  1.601266e+09  "
      ]
     },
     "execution_count": 83,
     "metadata": {},
     "output_type": "execute_result"
    }
   ],
   "source": [
    "cities_df.describe()"
   ]
  },
  {
   "cell_type": "markdown",
   "metadata": {},
   "source": [
    "## Inspect the data and remove the cities where the humidity > 100%.\n",
    "----\n",
    "Skip this step if there are no cities that have humidity > 100%. "
   ]
  },
  {
   "cell_type": "code",
   "execution_count": 90,
   "metadata": {},
   "outputs": [
    {
     "data": {
      "text/html": [
       "<div>\n",
       "<style scoped>\n",
       "    .dataframe tbody tr th:only-of-type {\n",
       "        vertical-align: middle;\n",
       "    }\n",
       "\n",
       "    .dataframe tbody tr th {\n",
       "        vertical-align: top;\n",
       "    }\n",
       "\n",
       "    .dataframe thead th {\n",
       "        text-align: right;\n",
       "    }\n",
       "</style>\n",
       "<table border=\"1\" class=\"dataframe\">\n",
       "  <thead>\n",
       "    <tr style=\"text-align: right;\">\n",
       "      <th></th>\n",
       "      <th>City</th>\n",
       "      <th>Lat</th>\n",
       "      <th>Long</th>\n",
       "      <th>Max Temp (C)</th>\n",
       "      <th>Humidity</th>\n",
       "      <th>Cloudiness</th>\n",
       "      <th>Windspeed</th>\n",
       "      <th>Country Code</th>\n",
       "      <th>Date</th>\n",
       "    </tr>\n",
       "  </thead>\n",
       "  <tbody>\n",
       "  </tbody>\n",
       "</table>\n",
       "</div>"
      ],
      "text/plain": [
       "Empty DataFrame\n",
       "Columns: [City, Lat, Long, Max Temp (C), Humidity, Cloudiness, Windspeed, Country Code, Date]\n",
       "Index: []"
      ]
     },
     "execution_count": 90,
     "metadata": {},
     "output_type": "execute_result"
    }
   ],
   "source": [
    "humid_cities = cities_df.loc[cities_df[\"Humidity\"]>100]\n",
    "humid_cities"
   ]
  },
  {
   "cell_type": "code",
   "execution_count": 17,
   "metadata": {},
   "outputs": [
    {
     "data": {
      "text/plain": [
       "Int64Index([], dtype='int64')"
      ]
     },
     "execution_count": 17,
     "metadata": {},
     "output_type": "execute_result"
    }
   ],
   "source": [
    "#  Get the indices of cities that have humidity over 100%.\n"
   ]
  },
  {
   "cell_type": "code",
   "execution_count": 19,
   "metadata": {},
   "outputs": [
    {
     "data": {
      "text/html": [
       "<div>\n",
       "<style scoped>\n",
       "    .dataframe tbody tr th:only-of-type {\n",
       "        vertical-align: middle;\n",
       "    }\n",
       "\n",
       "    .dataframe tbody tr th {\n",
       "        vertical-align: top;\n",
       "    }\n",
       "\n",
       "    .dataframe thead th {\n",
       "        text-align: right;\n",
       "    }\n",
       "</style>\n",
       "<table border=\"1\" class=\"dataframe\">\n",
       "  <thead>\n",
       "    <tr style=\"text-align: right;\">\n",
       "      <th></th>\n",
       "      <th>City</th>\n",
       "      <th>Lat</th>\n",
       "      <th>Lng</th>\n",
       "      <th>Max Temp</th>\n",
       "      <th>Humidity</th>\n",
       "      <th>Cloudiness</th>\n",
       "      <th>Wind Speed</th>\n",
       "      <th>Country</th>\n",
       "      <th>Date</th>\n",
       "    </tr>\n",
       "  </thead>\n",
       "  <tbody>\n",
       "    <tr>\n",
       "      <td>0</td>\n",
       "      <td>butaritari</td>\n",
       "      <td>3.07</td>\n",
       "      <td>172.79</td>\n",
       "      <td>83.32</td>\n",
       "      <td>74</td>\n",
       "      <td>84</td>\n",
       "      <td>10.42</td>\n",
       "      <td>KI</td>\n",
       "      <td>1593605283</td>\n",
       "    </tr>\n",
       "    <tr>\n",
       "      <td>1</td>\n",
       "      <td>yerbogachen</td>\n",
       "      <td>61.28</td>\n",
       "      <td>108.01</td>\n",
       "      <td>79.52</td>\n",
       "      <td>58</td>\n",
       "      <td>20</td>\n",
       "      <td>7.70</td>\n",
       "      <td>RU</td>\n",
       "      <td>1593605121</td>\n",
       "    </tr>\n",
       "    <tr>\n",
       "      <td>2</td>\n",
       "      <td>cape town</td>\n",
       "      <td>-33.93</td>\n",
       "      <td>18.42</td>\n",
       "      <td>73.00</td>\n",
       "      <td>77</td>\n",
       "      <td>27</td>\n",
       "      <td>4.70</td>\n",
       "      <td>ZA</td>\n",
       "      <td>1593605039</td>\n",
       "    </tr>\n",
       "    <tr>\n",
       "      <td>3</td>\n",
       "      <td>touba</td>\n",
       "      <td>8.28</td>\n",
       "      <td>-7.68</td>\n",
       "      <td>79.97</td>\n",
       "      <td>75</td>\n",
       "      <td>82</td>\n",
       "      <td>3.58</td>\n",
       "      <td>CI</td>\n",
       "      <td>1593605284</td>\n",
       "    </tr>\n",
       "    <tr>\n",
       "      <td>4</td>\n",
       "      <td>jamestown</td>\n",
       "      <td>42.10</td>\n",
       "      <td>-79.24</td>\n",
       "      <td>64.00</td>\n",
       "      <td>88</td>\n",
       "      <td>1</td>\n",
       "      <td>6.93</td>\n",
       "      <td>US</td>\n",
       "      <td>1593605284</td>\n",
       "    </tr>\n",
       "  </tbody>\n",
       "</table>\n",
       "</div>"
      ],
      "text/plain": [
       "          City    Lat     Lng  Max Temp  Humidity  Cloudiness  Wind Speed  \\\n",
       "0   butaritari   3.07  172.79     83.32        74          84       10.42   \n",
       "1  yerbogachen  61.28  108.01     79.52        58          20        7.70   \n",
       "2    cape town -33.93   18.42     73.00        77          27        4.70   \n",
       "3        touba   8.28   -7.68     79.97        75          82        3.58   \n",
       "4    jamestown  42.10  -79.24     64.00        88           1        6.93   \n",
       "\n",
       "  Country        Date  \n",
       "0      KI  1593605283  \n",
       "1      RU  1593605121  \n",
       "2      ZA  1593605039  \n",
       "3      CI  1593605284  \n",
       "4      US  1593605284  "
      ]
     },
     "execution_count": 19,
     "metadata": {},
     "output_type": "execute_result"
    }
   ],
   "source": [
    "# Make a new DataFrame equal to the city data to drop all humidity outliers by index.\n",
    "# Passing \"inplace=False\" will make a copy of the city_data DataFrame, which we call \"clean_city_data\".\n"
   ]
  },
  {
   "cell_type": "code",
   "execution_count": null,
   "metadata": {},
   "outputs": [],
   "source": [
    "\n"
   ]
  },
  {
   "cell_type": "markdown",
   "metadata": {},
   "source": [
    "## Plotting the Data\n",
    "* Use proper labeling of the plots using plot titles (including date of analysis) and axes labels.\n",
    "* Save the plotted figures as .pngs."
   ]
  },
  {
   "cell_type": "markdown",
   "metadata": {},
   "source": [
    "## Latitude vs. Temperature Plot"
   ]
  },
  {
   "cell_type": "code",
   "execution_count": 115,
   "metadata": {
    "scrolled": true
   },
   "outputs": [
    {
     "data": {
      "image/png": "[encoded data removed]",
      "text/plain": [
       "<Figure size 432x288 with 1 Axes>"
      ]
     },
     "metadata": {
      "needs_background": "light"
     },
     "output_type": "display_data"
    }
   ],
   "source": [
    "#Convert date timestamp to easy-read date for charting\n",
    "date_timestamp = cities_df.iloc[1,8]\n",
    "date = datetime.datetime.fromtimestamp(date_timestamp).strftime('%Y-%m-%d')\n",
    "\n",
    "\n",
    "lat = cities_df.loc[:,\"Lat\"]\n",
    "max_temp = cities_df.loc[:,\"Max Temp (C)\"]\n",
    "plt.scatter(lat,max_temp,c=\"pink\",edgecolors=\"black\")\n",
    "plt.title(f\"City Latitude vs. Max Temperature {date}\")\n",
    "plt.xlabel(\"Latitude\")\n",
    "plt.ylabel(\"Max Temperature (C)\")\n",
    "plt.grid(axis=\"both\")\n",
    "plt.savefig(\"lat_v_temp.png\")\n",
    "plt.show()"
   ]
  },
  {
   "cell_type": "markdown",
   "metadata": {},
   "source": [
    "## Latitude vs. Humidity Plot"
   ]
  },
  {
   "cell_type": "code",
   "execution_count": 116,
   "metadata": {},
   "outputs": [
    {
     "data": {
      "image/png": "[encoded data removed]",
      "text/plain": [
       "<Figure size 432x288 with 1 Axes>"
      ]
     },
     "metadata": {
      "needs_background": "light"
     },
     "output_type": "display_data"
    }
   ],
   "source": [
    "lat = cities_df.loc[:,\"Lat\"]\n",
    "max_temp = cities_df.loc[:,\"Humidity\"]\n",
    "plt.scatter(lat,max_temp,c=\"purple\",edgecolors=\"black\")\n",
    "plt.title(f\"City Latitude vs. Humidity {date}\")\n",
    "plt.xlabel(\"Latitude\")\n",
    "plt.ylabel(\"Humidity (%)\")\n",
    "plt.grid(axis=\"both\")\n",
    "plt.savefig(\"lat_v_humidity.png\")\n",
    "plt.show()"
   ]
  },
  {
   "cell_type": "markdown",
   "metadata": {},
   "source": [
    "## Latitude vs. Cloudiness Plot"
   ]
  },
  {
   "cell_type": "code",
   "execution_count": 117,
   "metadata": {},
   "outputs": [
    {
     "data": {
      "image/png": "[encoded data removed]",
      "text/plain": [
       "<Figure size 432x288 with 1 Axes>"
      ]
     },
     "metadata": {
      "needs_background": "light"
     },
     "output_type": "display_data"
    }
   ],
   "source": [
    "lat = cities_df.loc[:,\"Lat\"]\n",
    "max_temp = cities_df.loc[:,\"Cloudiness\"]\n",
    "plt.scatter(lat,max_temp,c=\"gray\",edgecolors=\"black\")\n",
    "plt.title(f\"City Latitude vs. Cloudiness {date}\")\n",
    "plt.xlabel(\"Latitude\")\n",
    "plt.ylabel(\"Cloudiness (%)\")\n",
    "plt.grid(axis=\"both\")\n",
    "plt.savefig(\"lat_v_cloudiness.png\")\n",
    "plt.show()"
   ]
  },
  {
   "cell_type": "markdown",
   "metadata": {},
   "source": [
    "## Latitude vs. Wind Speed Plot"
   ]
  },
  {
   "cell_type": "code",
   "execution_count": 118,
   "metadata": {},
   "outputs": [
    {
     "data": {
      "image/png": "[encoded data removed]",
      "text/plain": [
       "<Figure size 432x288 with 1 Axes>"
      ]
     },
     "metadata": {
      "needs_background": "light"
     },
     "output_type": "display_data"
    }
   ],
   "source": [
    "lat = cities_df.loc[:,\"Lat\"]\n",
    "max_temp = cities_df.loc[:,\"Windspeed\"]\n",
    "plt.scatter(lat,max_temp,c=\"orange\",edgecolors=\"black\")\n",
    "plt.title(f\"City Latitude vs. Windspeed {date}\")\n",
    "plt.xlabel(\"Latitude\")\n",
    "plt.ylabel(\"Windspeed (kph)\")\n",
    "plt.grid(axis=\"both\")\n",
    "plt.savefig(\"lat_v_windspeed.png\")\n",
    "plt.show()"
   ]
  },
  {
   "cell_type": "markdown",
   "metadata": {},
   "source": [
    "## Linear Regression"
   ]
  },
  {
   "cell_type": "code",
   "execution_count": 24,
   "metadata": {},
   "outputs": [],
   "source": []
  },
  {
   "cell_type": "markdown",
   "metadata": {},
   "source": [
    "####  Northern Hemisphere - Max Temp vs. Latitude Linear Regression"
   ]
  },
  {
   "cell_type": "code",
   "execution_count": 25,
   "metadata": {},
   "outputs": [
    {
     "name": "stdout",
     "output_type": "stream",
     "text": [
      "The r-value is: 0.46937863826630627\n"
     ]
    },
    {
     "data": {
      "image/png": "[encoded data removed]",
      "text/plain": [
       "<Figure size 432x288 with 1 Axes>"
      ]
     },
     "metadata": {
      "needs_background": "light"
     },
     "output_type": "display_data"
    }
   ],
   "source": []
  },
  {
   "cell_type": "markdown",
   "metadata": {},
   "source": [
    "####  Southern Hemisphere - Max Temp vs. Latitude Linear Regression"
   ]
  },
  {
   "cell_type": "code",
   "execution_count": 26,
   "metadata": {},
   "outputs": [
    {
     "name": "stdout",
     "output_type": "stream",
     "text": [
      "The r-value is: 0.6082708688906918\n"
     ]
    },
    {
     "data": {
      "image/png": "[encoded data removed]",
      "text/plain": [
       "<Figure size 432x288 with 1 Axes>"
      ]
     },
     "metadata": {
      "needs_background": "light"
     },
     "output_type": "display_data"
    }
   ],
   "source": []
  },
  {
   "cell_type": "markdown",
   "metadata": {},
   "source": [
    "####  Northern Hemisphere - Humidity (%) vs. Latitude Linear Regression"
   ]
  },
  {
   "cell_type": "code",
   "execution_count": 27,
   "metadata": {},
   "outputs": [
    {
     "name": "stdout",
     "output_type": "stream",
     "text": [
      "The r-value is: 0.000543987878808455\n"
     ]
    },
    {
     "data": {
      "image/png": "[encoded data removed]",
      "text/plain": [
       "<Figure size 432x288 with 1 Axes>"
      ]
     },
     "metadata": {
      "needs_background": "light"
     },
     "output_type": "display_data"
    }
   ],
   "source": []
  },
  {
   "cell_type": "markdown",
   "metadata": {},
   "source": [
    "####  Southern Hemisphere - Humidity (%) vs. Latitude Linear Regression"
   ]
  },
  {
   "cell_type": "code",
   "execution_count": 28,
   "metadata": {},
   "outputs": [
    {
     "name": "stdout",
     "output_type": "stream",
     "text": [
      "The r-value is: 0.014985174297345524\n"
     ]
    },
    {
     "data": {
      "image/png": "[encoded data removed]",
      "text/plain": [
       "<Figure size 432x288 with 1 Axes>"
      ]
     },
     "metadata": {
      "needs_background": "light"
     },
     "output_type": "display_data"
    }
   ],
   "source": []
  },
  {
   "cell_type": "markdown",
   "metadata": {},
   "source": [
    "####  Northern Hemisphere - Cloudiness (%) vs. Latitude Linear Regression"
   ]
  },
  {
   "cell_type": "code",
   "execution_count": 29,
   "metadata": {},
   "outputs": [
    {
     "name": "stdout",
     "output_type": "stream",
     "text": [
      "The r-value is: 0.0020898727664228514\n"
     ]
    },
    {
     "data": {
      "image/png": "[encoded data removed]",
      "text/plain": [
       "<Figure size 432x288 with 1 Axes>"
      ]
     },
     "metadata": {
      "needs_background": "light"
     },
     "output_type": "display_data"
    }
   ],
   "source": []
  },
  {
   "cell_type": "markdown",
   "metadata": {},
   "source": [
    "####  Southern Hemisphere - Cloudiness (%) vs. Latitude Linear Regression"
   ]
  },
  {
   "cell_type": "code",
   "execution_count": 30,
   "metadata": {},
   "outputs": [
    {
     "name": "stdout",
     "output_type": "stream",
     "text": [
      "The r-value is: 0.0035263772085582894\n"
     ]
    },
    {
     "data": {
      "image/png": "[encoded data removed]",
      "text/plain": [
       "<Figure size 432x288 with 1 Axes>"
      ]
     },
     "metadata": {
      "needs_background": "light"
     },
     "output_type": "display_data"
    }
   ],
   "source": []
  },
  {
   "cell_type": "markdown",
   "metadata": {},
   "source": [
    "####  Northern Hemisphere - Wind Speed (mph) vs. Latitude Linear Regression"
   ]
  },
  {
   "cell_type": "code",
   "execution_count": 31,
   "metadata": {},
   "outputs": [
    {
     "name": "stdout",
     "output_type": "stream",
     "text": [
      "The r-value is: 0.04019723576144484\n"
     ]
    },
    {
     "data": {
      "image/png": "[encoded data removed]",
      "text/plain": [
       "<Figure size 432x288 with 1 Axes>"
      ]
     },
     "metadata": {
      "needs_background": "light"
     },
     "output_type": "display_data"
    }
   ],
   "source": []
  },
  {
   "cell_type": "markdown",
   "metadata": {},
   "source": [
    "####  Southern Hemisphere - Wind Speed (mph) vs. Latitude Linear Regression"
   ]
  },
  {
   "cell_type": "code",
   "execution_count": 32,
   "metadata": {},
   "outputs": [
    {
     "name": "stdout",
     "output_type": "stream",
     "text": [
      "The r-value is: 0.017128274759839232\n"
     ]
    },
    {
     "data": {
      "image/png": "[encoded data removed]",
      "text/plain": [
       "<Figure size 432x288 with 1 Axes>"
      ]
     },
     "metadata": {
      "needs_background": "light"
     },
     "output_type": "display_data"
    }
   ],
   "source": []
  },
  {
   "cell_type": "code",
   "execution_count": null,
   "metadata": {},
   "outputs": [],
   "source": []
  }
 ],
 "metadata": {
  "anaconda-cloud": {},
  "kernel_info": {
   "name": "python3"
  },
  "kernelspec": {
   "display_name": "Python 3",
   "language": "python",
   "name": "python3"
  },
  "language_info": {
   "codemirror_mode": {
    "name": "ipython",
    "version": 3
   },
   "file_extension": ".py",
   "mimetype": "text/x-python",
   "name": "python",
   "nbconvert_exporter": "python",
   "pygments_lexer": "ipython3",
   "version": "3.6.10"
  },
  "latex_envs": {
   "LaTeX_envs_menu_present": true,
   "autoclose": false,
   "autocomplete": true,
   "bibliofile": "biblio.bib",
   "cite_by": "apalike",
   "current_citInitial": 1,
   "eqLabelWithNumbers": true,
   "eqNumInitial": 1,
   "hotkeys": {
    "equation": "Ctrl-E",
    "itemize": "Ctrl-I"
   },
   "labels_anchors": false,
   "latex_user_defs": false,
   "report_style_numbering": false,
   "user_envs_cfg": false
  },
  "nteract": {
   "version": "0.12.3"
  }
 },
 "nbformat": 4,
 "nbformat_minor": 2
}
